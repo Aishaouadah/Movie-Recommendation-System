{
 "cells": [
  {
   "cell_type": "markdown",
   "metadata": {},
   "source": [
    "# Movies Recommendation System\n"
   ]
  },
  {
   "cell_type": "code",
   "execution_count": null,
   "metadata": {},
   "outputs": [],
   "source": [
    "#Imports \n",
    "import numpy as np\n",
    "import pandas as pd\n",
    "import re # Regular expression lib\n",
    "from sklearn.feature_extraction.text import TfidfVectorizer #python ML lib\n",
    "from sklearn.metrics.pairwise import cosine_similarity\n",
    "import ipywidgets as widgets\n",
    "from IPython.display import display"
   ]
  },
  {
   "cell_type": "code",
   "execution_count": null,
   "metadata": {},
   "outputs": [],
   "source": [
    "movies = pd.read_csv(\"data/movies.csv\")\n",
    "movies"
   ]
  },
  {
   "cell_type": "code",
   "execution_count": null,
   "metadata": {},
   "outputs": [],
   "source": [
    "def clean_title(title):\n",
    "    return re.sub(\"[^a-zA-Z0-9 ]\",\"\",title)\n",
    "# add it to the data\n",
    "movies[\"clean_title\"] = movies[\"title\"].apply(clean_title)\n",
    "# why not  #  movies[\"clean_title\"] = clean_title(movies[\"title\"])\n",
    "movies"
   ]
  },
  {
   "cell_type": "markdown",
   "metadata": {},
   "source": [
    "Search engine: \n",
    "* we need TFIDF Matrix : converting titles to matrix (terms and frequency)\n",
    "* we need inverse document frequency :  it helps calculating the similarity of the input with our data and make the best choice\n",
    "\n"
   ]
  },
  {
   "cell_type": "code",
   "execution_count": null,
   "metadata": {},
   "outputs": [],
   "source": [
    "vectorizer = TfidfVectorizer(ngram_range=(1,2)) # the ngram will make search more accurate by taking 2 words toghther into consideration \n",
    "tfidf = vectorizer.fit_transform(movies[\"clean_title\"])"
   ]
  },
  {
   "cell_type": "code",
   "execution_count": null,
   "metadata": {},
   "outputs": [],
   "source": [
    "# compute similarity between input (title) and all movies  \n",
    "def search(title):\n",
    "    title = clean_title(title)\n",
    "    query_vec = vectorizer.transform([title])\n",
    "    similarity = cosine_similarity(query_vec,tfidf).flatten()\n",
    "    indices  = np.argpartition(similarity,-5) [-5:]  # find 5 most similair movies to the input \n",
    "    results = movies.iloc[indices] [::-1] #  [::-1] reverse the results \n",
    "    return results"
   ]
  },
  {
   "cell_type": "code",
   "execution_count": null,
   "metadata": {},
   "outputs": [],
   "source": [
    "ratings = pd.read_csv(\"data/ratings.csv\")"
   ]
  },
  {
   "cell_type": "code",
   "execution_count": null,
   "metadata": {},
   "outputs": [],
   "source": [
    "def find_similar_movies(movie_id):\n",
    "    #Finding recommendations \n",
    "    similair_users = ratings[(ratings[\"movieId\"] == movie_id ) & (ratings[\"rating\"] > 4)][\"userId\"].unique()\n",
    "    similair_users_recs = ratings[(ratings[\"userId\"].isin(similair_users) & (ratings[\"rating\"]) > 4 )][\"movieId\"]\n",
    "    #Adjusting \n",
    "    similair_users_recs = similair_users_recs.value_counts() / len(similair_users)\n",
    "    similair_users_recs = similair_users_recs[similair_users_recs> .1]\n",
    "    #\n",
    "    all_users = ratings[(ratings[\"movieId\"].isin(similair_users_recs.index) & (ratings[\"ratings\"]) > 4)]\n",
    "    all_users_recs = all_users[\"movieId\"].value_counts( ) / len(all_users[\"userId\"].unique())\n",
    "    #Generating score \n",
    "    rec_percentages = pd.concat([similair_users_recs,all_users_recs] ,axis=1)\n",
    "    rec_percentages.columns =[\"similair\",\"all\"]\n",
    "\n",
    "    rec_percentages[\"score\"]    = rec_percentages[\"similair\"] / rec_percentages[\"all\"]\n",
    "    rec_percentages = rec_percentages.sort_values(\"score\",ascending=False) # Bigger Begining\n",
    "    return rec_percentages.head(10).merge(movies,left_index=True ,right_on=\"movieId\")[[\"score\",\"title\",\"genres\"]]"
   ]
  },
  {
   "cell_type": "code",
   "execution_count": null,
   "metadata": {},
   "outputs": [],
   "source": [
    "# interactive search box \n",
    "movie_input = widgets.Text(\n",
    "    value=\"Toy Story\", \n",
    "    description = \"Movie Title: \",\n",
    "    disabled = False\n",
    "    \n",
    ")\n",
    "recommendation_list = widgets.Output()\n",
    "def on_type(data):\n",
    "    with recommendation_list: \n",
    "        recommendation_list.clear_output()\n",
    "        title = data[\"new\"]\n",
    "        if len(title) > 5:\n",
    "            result = search(title)\n",
    "            movie_id= result.iloc[0][\"movieId\"] #First row  \n",
    "            display(find_similar_movies(movie_id))\n",
    "\n",
    "\n",
    "\n",
    "movie_input.observe(on_type, names='value')\n",
    "\n",
    "display(movie_input, recommendation_list)"
   ]
  }
 ],
 "metadata": {
  "kernelspec": {
   "display_name": "Python 3.8.10 64-bit",
   "language": "python",
   "name": "python3"
  },
  "language_info": {
   "codemirror_mode": {
    "name": "ipython",
    "version": 3
   },
   "file_extension": ".py",
   "mimetype": "text/x-python",
   "name": "python",
   "nbconvert_exporter": "python",
   "pygments_lexer": "ipython3",
   "version": "3.8.10"
  },
  "orig_nbformat": 4,
  "vscode": {
   "interpreter": {
    "hash": "916dbcbb3f70747c44a77c7bcd40155683ae19c65e1c03b4aa3499c5328201f1"
   }
  }
 },
 "nbformat": 4,
 "nbformat_minor": 2
}
